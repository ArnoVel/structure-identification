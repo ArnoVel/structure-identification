{
 "cells": [
  {
   "cell_type": "code",
   "execution_count": 1,
   "metadata": {},
   "outputs": [],
   "source": [
    "import torch\n",
    "from scipy.stats import gamma\n",
    "from functions.kernels import RBF,RQ, SumIdentical, SumKernels\n",
    "from functions.operations import block_matrix, cross_average, unblock_matrix"
   ]
  },
  {
   "cell_type": "code",
   "execution_count": 2,
   "metadata": {},
   "outputs": [],
   "source": [
    "from dependence.mmd import MMD, numpy, DEVICE"
   ]
  },
  {
   "cell_type": "code",
   "execution_count": 3,
   "metadata": {},
   "outputs": [],
   "source": [
    "params = [{'bandwidth':10**(i),\n",
    "            'alpha':(6+i)\n",
    "            } for i in range(-2,2)]\n",
    "kernels = [RQ for p in params]\n",
    "kerlist = [ker(**p, precompute=True) for (ker,p) in zip(kernels,params)]"
   ]
  },
  {
   "cell_type": "code",
   "execution_count": 4,
   "metadata": {},
   "outputs": [],
   "source": [
    "import matplotlib.pyplot as plt"
   ]
  },
  {
   "cell_type": "code",
   "execution_count": 5,
   "metadata": {},
   "outputs": [],
   "source": [
    "EPS = torch.linspace(-10,10,10000)\n",
    "X = EPS.to(DEVICE)"
   ]
  },
  {
   "cell_type": "code",
   "execution_count": 6,
   "metadata": {},
   "outputs": [],
   "source": [
    "from functions.kernels import PairwiseSqDist"
   ]
  },
  {
   "cell_type": "code",
   "execution_count": 7,
   "metadata": {},
   "outputs": [],
   "source": [
    "sqDists = PairwiseSqDist(X)\n",
    "D = sqDists.sqrt()"
   ]
  },
  {
   "cell_type": "code",
   "execution_count": 8,
   "metadata": {
    "scrolled": true
   },
   "outputs": [
    {
     "data": {
      "text/plain": [
       "(tensor(0.0010, device='cuda:0'), tensor(1.0000e-06, device='cuda:0'))"
      ]
     },
     "execution_count": 8,
     "metadata": {},
     "output_type": "execute_result"
    }
   ],
   "source": [
    "D.min(), sqDists.min()"
   ]
  },
  {
   "cell_type": "code",
   "execution_count": 9,
   "metadata": {},
   "outputs": [
    {
     "name": "stdout",
     "output_type": "stream",
     "text": [
      "tensor(20., device='cuda:0')\n",
      "tensor([1.5873e-11], device='cuda:0') tensor(0.9060, device='cuda:0')\n",
      "tensor([8.6314e-09], device='cuda:0') tensor(0.9901, device='cuda:0')\n",
      "tensor([0.0002], device='cuda:0') tensor(0.9990, device='cuda:0')\n",
      "tensor([0.1722], device='cuda:0') tensor(0.9999, device='cuda:0')\n"
     ]
    }
   ],
   "source": [
    "print(D.max())\n",
    "for k in kerlist:\n",
    "    print(k(D.max()), k(D).max())"
   ]
  },
  {
   "cell_type": "code",
   "execution_count": 10,
   "metadata": {},
   "outputs": [
    {
     "name": "stdout",
     "output_type": "stream",
     "text": [
      "{'bandwidth': 0.01, 'alpha': 4} tensor(0.9060, device='cuda:0')\n",
      "{'bandwidth': 0.1, 'alpha': 5} tensor(0.9901, device='cuda:0')\n",
      "{'bandwidth': 1, 'alpha': 6} tensor(0.9990, device='cuda:0')\n",
      "{'bandwidth': 10, 'alpha': 7} tensor(0.9999, device='cuda:0')\n"
     ]
    }
   ],
   "source": [
    "for i,k in enumerate(kerlist):\n",
    "    print(params[i],k(D).max())"
   ]
  },
  {
   "cell_type": "code",
   "execution_count": 11,
   "metadata": {},
   "outputs": [],
   "source": [
    "#for i,k in enumerate(kerlist):\n",
    "#    Y = k(D)\n",
    "#    plt.plot(EPS,numpy(Y), label=str(params[i]))\n",
    "#plt.legend()\n",
    "#plt.show()"
   ]
  },
  {
   "cell_type": "code",
   "execution_count": 17,
   "metadata": {},
   "outputs": [
    {
     "name": "stdout",
     "output_type": "stream",
     "text": [
      "torch.Size([10000])\n",
      "torch.Size([10000])\n",
      "torch.Size([10000])\n",
      "torch.Size([10000])\n"
     ]
    }
   ],
   "source": [
    "for k in kerlist:\n",
    "    print(k(D)[0,:].shape)"
   ]
  }
 ],
 "metadata": {
  "kernelspec": {
   "display_name": "Python 3",
   "language": "python",
   "name": "python3"
  },
  "language_info": {
   "codemirror_mode": {
    "name": "ipython",
    "version": 3
   },
   "file_extension": ".py",
   "mimetype": "text/x-python",
   "name": "python",
   "nbconvert_exporter": "python",
   "pygments_lexer": "ipython3",
   "version": "3.6.8"
  }
 },
 "nbformat": 4,
 "nbformat_minor": 2
}
