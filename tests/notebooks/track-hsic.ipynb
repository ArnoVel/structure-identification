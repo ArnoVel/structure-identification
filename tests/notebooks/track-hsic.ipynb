{
 "cells": [
  {
   "cell_type": "code",
   "execution_count": 4,
   "metadata": {},
   "outputs": [],
   "source": [
    "# Add directory above current directory to path\n",
    "import sys; sys.path.insert(0, '../..'); sys.path.insert(0, '..')\n",
    "\n",
    "from functions.miscellanea import _unpickle"
   ]
  },
  {
   "cell_type": "code",
   "execution_count": 5,
   "metadata": {},
   "outputs": [],
   "source": [
    "import torch\n",
    "import numpy as np\n",
    "from torch.distributions.multivariate_normal import MultivariateNormal as MVN\n",
    "from functions.kernels import SumIdentical, RBF, RQ\n",
    "from dependence.hsic import HSIC\n",
    "from functions.miscellanea import ruled_print, _pickle, _unpickle\n",
    "import argparse, os\n",
    "\n",
    "device = torch.device('cuda')\n",
    "\n",
    "save, reps, sizepow = 0,1,4"
   ]
  },
  {
   "cell_type": "code",
   "execution_count": 7,
   "metadata": {},
   "outputs": [],
   "source": [
    "def numpy(tensor):\n",
    "    return tensor.cpu().numpy()\n",
    "\n",
    "def two_gaussians(n, covariance=[1,0,0,1]):\n",
    "    sampler = MVN(loc=torch.zeros(2),\n",
    "                  covariance_matrix=torch.Tensor([covariance[0:2],covariance[2:4]]))\n",
    "    X,Y = sampler.sample((n,)).t()\n",
    "    return X.view(-1,1), Y.view(-1,1)\n",
    "\n",
    "def hsic_test(n, reps=1,\n",
    "            kernels_X=None, params_X=None,\n",
    "            kernels_Y=None, params_Y=None,\n",
    "            save=False, cov=[1,0,0,1]):\n",
    "    ''' samples X,Y from a 2d-gaussian with various levels of correlation '''\n",
    "    hsic_u = HSIC(n=n,\n",
    "                  kernels_X=kernels_X, params_X=params_X,\n",
    "                  kernels_Y=kernels_Y, params_Y=params_Y,\n",
    "                  unbiased=True)\n",
    "    hsic_b = HSIC(n=n,\n",
    "                  kernels_X=kernels_X, params_X=params_X,\n",
    "                  kernels_Y=kernels_Y, params_Y=params_Y,\n",
    "                  unbiased=False)\n",
    "    experiments = []\n",
    "    for _ in range(reps):\n",
    "        X,Y = two_gaussians(n, covariance=cov)\n",
    "        X,Y = X.to(device), Y.to(device)\n",
    "        curr_experiment = [hsic_b(X,Y), hsic_u(X,Y), *hsic_b.GammaProb(X,Y, alpha=0.05)]\n",
    "        curr_experiment = [numpy(val) if isinstance(val,torch.Tensor) else val.ravel()[0] for val in curr_experiment]\n",
    "        curr_experiment = np.array(curr_experiment)\n",
    "        experiments.append(curr_experiment)\n",
    "\n",
    "    del hsic_b, hsic_u\n",
    "    torch.cuda.empty_cache()\n",
    "    return experiments"
   ]
  },
  {
   "cell_type": "code",
   "execution_count": 9,
   "metadata": {},
   "outputs": [],
   "source": [
    "\n",
    "n = 10 ** sizepow\n",
    "\n",
    "\n",
    "params_X = [{'bandwidth':10**(i),\n",
    "            'alpha':(4+i)\n",
    "            } for i in range(-2,2)]\n",
    "params_Y = params_X\n",
    "kernels_X = [RQ for p in params_X]\n",
    "kernels_Y = [RBF for p in params_Y]\n",
    "#print(kernels,params)\n",
    "if save:\n",
    "    save = {'params':[], 'test_values':[]}"
   ]
  },
  {
   "cell_type": "code",
   "execution_count": 18,
   "metadata": {},
   "outputs": [
    {
     "name": "stdout",
     "output_type": "stream",
     "text": [
      "\n",
      "\n",
      "\n",
      "--------------------------------------------------------------------\n",
      "Testing MVN(0,cov) with cov=[1,0.12;0.12,1] with rho=0.12 increasing\n",
      "--------------------------------------------------------------------\n"
     ]
    },
    {
     "ename": "RuntimeError",
     "evalue": "CUDA out of memory. Tried to allocate 382.00 MiB (GPU 0; 5.80 GiB total capacity; 4.48 GiB already allocated; 184.00 MiB free; 1.86 MiB cached)",
     "output_type": "error",
     "traceback": [
      "\u001b[0;31m---------------------------------------------------------------------------\u001b[0m",
      "\u001b[0;31mRuntimeError\u001b[0m                              Traceback (most recent call last)",
      "\u001b[0;32m<ipython-input-18-f6d705afb3f9>\u001b[0m in \u001b[0;36m<module>\u001b[0;34m\u001b[0m\n\u001b[1;32m      6\u001b[0m                     \u001b[0mkernels_X\u001b[0m\u001b[0;34m=\u001b[0m\u001b[0mkernels_X\u001b[0m\u001b[0;34m,\u001b[0m \u001b[0mparams_X\u001b[0m\u001b[0;34m=\u001b[0m\u001b[0mparams_X\u001b[0m\u001b[0;34m,\u001b[0m\u001b[0;34m\u001b[0m\u001b[0;34m\u001b[0m\u001b[0m\n\u001b[1;32m      7\u001b[0m                     \u001b[0mkernels_Y\u001b[0m\u001b[0;34m=\u001b[0m\u001b[0mkernels_Y\u001b[0m\u001b[0;34m,\u001b[0m \u001b[0mparams_Y\u001b[0m\u001b[0;34m=\u001b[0m\u001b[0mparams_Y\u001b[0m\u001b[0;34m,\u001b[0m\u001b[0;34m\u001b[0m\u001b[0;34m\u001b[0m\u001b[0m\n\u001b[0;32m----> 8\u001b[0;31m                     save=save, cov=cov)\n\u001b[0m\u001b[1;32m      9\u001b[0m \u001b[0;34m\u001b[0m\u001b[0m\n\u001b[1;32m     10\u001b[0m \u001b[0mhsic_b\u001b[0m\u001b[0;34m,\u001b[0m \u001b[0mhsic_u\u001b[0m\u001b[0;34m,\u001b[0m \u001b[0mgamma_stat\u001b[0m\u001b[0;34m,\u001b[0m \u001b[0mgamma_test_thresh\u001b[0m \u001b[0;34m=\u001b[0m \u001b[0mresults\u001b[0m\u001b[0;34m[\u001b[0m\u001b[0;36m0\u001b[0m\u001b[0;34m]\u001b[0m\u001b[0;34m\u001b[0m\u001b[0;34m\u001b[0m\u001b[0m\n",
      "\u001b[0;32m<ipython-input-7-1a821cfa469b>\u001b[0m in \u001b[0;36mhsic_test\u001b[0;34m(n, reps, kernels_X, params_X, kernels_Y, params_Y, save, cov)\u001b[0m\n\u001b[1;32m     25\u001b[0m         \u001b[0mX\u001b[0m\u001b[0;34m,\u001b[0m\u001b[0mY\u001b[0m \u001b[0;34m=\u001b[0m \u001b[0mtwo_gaussians\u001b[0m\u001b[0;34m(\u001b[0m\u001b[0mn\u001b[0m\u001b[0;34m,\u001b[0m \u001b[0mcovariance\u001b[0m\u001b[0;34m=\u001b[0m\u001b[0mcov\u001b[0m\u001b[0;34m)\u001b[0m\u001b[0;34m\u001b[0m\u001b[0;34m\u001b[0m\u001b[0m\n\u001b[1;32m     26\u001b[0m         \u001b[0mX\u001b[0m\u001b[0;34m,\u001b[0m\u001b[0mY\u001b[0m \u001b[0;34m=\u001b[0m \u001b[0mX\u001b[0m\u001b[0;34m.\u001b[0m\u001b[0mto\u001b[0m\u001b[0;34m(\u001b[0m\u001b[0mdevice\u001b[0m\u001b[0;34m)\u001b[0m\u001b[0;34m,\u001b[0m \u001b[0mY\u001b[0m\u001b[0;34m.\u001b[0m\u001b[0mto\u001b[0m\u001b[0;34m(\u001b[0m\u001b[0mdevice\u001b[0m\u001b[0;34m)\u001b[0m\u001b[0;34m\u001b[0m\u001b[0;34m\u001b[0m\u001b[0m\n\u001b[0;32m---> 27\u001b[0;31m         \u001b[0mcurr_experiment\u001b[0m \u001b[0;34m=\u001b[0m \u001b[0;34m[\u001b[0m\u001b[0mhsic_b\u001b[0m\u001b[0;34m(\u001b[0m\u001b[0mX\u001b[0m\u001b[0;34m,\u001b[0m\u001b[0mY\u001b[0m\u001b[0;34m)\u001b[0m\u001b[0;34m,\u001b[0m \u001b[0mhsic_u\u001b[0m\u001b[0;34m(\u001b[0m\u001b[0mX\u001b[0m\u001b[0;34m,\u001b[0m\u001b[0mY\u001b[0m\u001b[0;34m)\u001b[0m\u001b[0;34m,\u001b[0m \u001b[0;34m*\u001b[0m\u001b[0mhsic_b\u001b[0m\u001b[0;34m.\u001b[0m\u001b[0mGammaProb\u001b[0m\u001b[0;34m(\u001b[0m\u001b[0mX\u001b[0m\u001b[0;34m,\u001b[0m\u001b[0mY\u001b[0m\u001b[0;34m,\u001b[0m \u001b[0malpha\u001b[0m\u001b[0;34m=\u001b[0m\u001b[0;36m0.05\u001b[0m\u001b[0;34m)\u001b[0m\u001b[0;34m]\u001b[0m\u001b[0;34m\u001b[0m\u001b[0;34m\u001b[0m\u001b[0m\n\u001b[0m\u001b[1;32m     28\u001b[0m         \u001b[0mcurr_experiment\u001b[0m \u001b[0;34m=\u001b[0m \u001b[0;34m[\u001b[0m\u001b[0mnumpy\u001b[0m\u001b[0;34m(\u001b[0m\u001b[0mval\u001b[0m\u001b[0;34m)\u001b[0m \u001b[0;32mif\u001b[0m \u001b[0misinstance\u001b[0m\u001b[0;34m(\u001b[0m\u001b[0mval\u001b[0m\u001b[0;34m,\u001b[0m\u001b[0mtorch\u001b[0m\u001b[0;34m.\u001b[0m\u001b[0mTensor\u001b[0m\u001b[0;34m)\u001b[0m \u001b[0;32melse\u001b[0m \u001b[0mval\u001b[0m\u001b[0;34m.\u001b[0m\u001b[0mravel\u001b[0m\u001b[0;34m(\u001b[0m\u001b[0;34m)\u001b[0m\u001b[0;34m[\u001b[0m\u001b[0;36m0\u001b[0m\u001b[0;34m]\u001b[0m \u001b[0;32mfor\u001b[0m \u001b[0mval\u001b[0m \u001b[0;32min\u001b[0m \u001b[0mcurr_experiment\u001b[0m\u001b[0;34m]\u001b[0m\u001b[0;34m\u001b[0m\u001b[0;34m\u001b[0m\u001b[0m\n\u001b[1;32m     29\u001b[0m         \u001b[0mcurr_experiment\u001b[0m \u001b[0;34m=\u001b[0m \u001b[0mnp\u001b[0m\u001b[0;34m.\u001b[0m\u001b[0marray\u001b[0m\u001b[0;34m(\u001b[0m\u001b[0mcurr_experiment\u001b[0m\u001b[0;34m)\u001b[0m\u001b[0;34m\u001b[0m\u001b[0;34m\u001b[0m\u001b[0m\n",
      "\u001b[0;32m~/SJTU/research_code/TCEP/Structure-Identification/dependence/hsic.py\u001b[0m in \u001b[0;36mGammaProb\u001b[0;34m(self, X, Y, alpha)\u001b[0m\n\u001b[1;32m     73\u001b[0m                    \u001b[0mself\u001b[0m\u001b[0;34m.\u001b[0m\u001b[0mKerF_Y\u001b[0m\u001b[0;34m(\u001b[0m\u001b[0mtorch\u001b[0m\u001b[0;34m.\u001b[0m\u001b[0mzeros\u001b[0m\u001b[0;34m(\u001b[0m\u001b[0;36m1\u001b[0m\u001b[0;34m,\u001b[0m\u001b[0;36m1\u001b[0m\u001b[0;34m)\u001b[0m\u001b[0;34m.\u001b[0m\u001b[0mto\u001b[0m\u001b[0;34m(\u001b[0m\u001b[0mDEVICE\u001b[0m\u001b[0;34m)\u001b[0m\u001b[0;34m)\u001b[0m\u001b[0;34m\u001b[0m\u001b[0;34m\u001b[0m\u001b[0m\n\u001b[1;32m     74\u001b[0m \u001b[0;34m\u001b[0m\u001b[0m\n\u001b[0;32m---> 75\u001b[0;31m         \u001b[0mself\u001b[0m\u001b[0;34m.\u001b[0m\u001b[0mK_X\u001b[0m\u001b[0;34m,\u001b[0m \u001b[0mself\u001b[0m\u001b[0;34m.\u001b[0m\u001b[0mK_Y\u001b[0m \u001b[0;34m=\u001b[0m \u001b[0mself\u001b[0m\u001b[0;34m.\u001b[0m\u001b[0mKerF_X\u001b[0m\u001b[0;34m(\u001b[0m\u001b[0mX\u001b[0m\u001b[0;34m)\u001b[0m\u001b[0;34m,\u001b[0m \u001b[0mself\u001b[0m\u001b[0;34m.\u001b[0m\u001b[0mKerF_Y\u001b[0m\u001b[0;34m(\u001b[0m\u001b[0mY\u001b[0m\u001b[0;34m)\u001b[0m\u001b[0;34m\u001b[0m\u001b[0;34m\u001b[0m\u001b[0m\n\u001b[0m\u001b[1;32m     76\u001b[0m         \u001b[0mK_X_c\u001b[0m\u001b[0;34m,\u001b[0m \u001b[0mK_Y_c\u001b[0m \u001b[0;34m=\u001b[0m \u001b[0mH\u001b[0m \u001b[0;34m@\u001b[0m \u001b[0mself\u001b[0m\u001b[0;34m.\u001b[0m\u001b[0mK_X\u001b[0m \u001b[0;34m@\u001b[0m \u001b[0mH\u001b[0m\u001b[0;34m,\u001b[0m \u001b[0mH\u001b[0m \u001b[0;34m@\u001b[0m \u001b[0mself\u001b[0m\u001b[0;34m.\u001b[0m\u001b[0mK_Y\u001b[0m \u001b[0;34m@\u001b[0m \u001b[0mH\u001b[0m\u001b[0;34m\u001b[0m\u001b[0;34m\u001b[0m\u001b[0m\n\u001b[1;32m     77\u001b[0m         \u001b[0;31m# we approximate the distribution of m*HSIC_b\u001b[0m\u001b[0;34m\u001b[0m\u001b[0;34m\u001b[0m\u001b[0;34m\u001b[0m\u001b[0m\n",
      "\u001b[0;32m~/.local/lib/python3.6/site-packages/torch/nn/modules/module.py\u001b[0m in \u001b[0;36m__call__\u001b[0;34m(self, *input, **kwargs)\u001b[0m\n\u001b[1;32m    539\u001b[0m             \u001b[0mresult\u001b[0m \u001b[0;34m=\u001b[0m \u001b[0mself\u001b[0m\u001b[0;34m.\u001b[0m\u001b[0m_slow_forward\u001b[0m\u001b[0;34m(\u001b[0m\u001b[0;34m*\u001b[0m\u001b[0minput\u001b[0m\u001b[0;34m,\u001b[0m \u001b[0;34m**\u001b[0m\u001b[0mkwargs\u001b[0m\u001b[0;34m)\u001b[0m\u001b[0;34m\u001b[0m\u001b[0;34m\u001b[0m\u001b[0m\n\u001b[1;32m    540\u001b[0m         \u001b[0;32melse\u001b[0m\u001b[0;34m:\u001b[0m\u001b[0;34m\u001b[0m\u001b[0;34m\u001b[0m\u001b[0m\n\u001b[0;32m--> 541\u001b[0;31m             \u001b[0mresult\u001b[0m \u001b[0;34m=\u001b[0m \u001b[0mself\u001b[0m\u001b[0;34m.\u001b[0m\u001b[0mforward\u001b[0m\u001b[0;34m(\u001b[0m\u001b[0;34m*\u001b[0m\u001b[0minput\u001b[0m\u001b[0;34m,\u001b[0m \u001b[0;34m**\u001b[0m\u001b[0mkwargs\u001b[0m\u001b[0;34m)\u001b[0m\u001b[0;34m\u001b[0m\u001b[0;34m\u001b[0m\u001b[0m\n\u001b[0m\u001b[1;32m    542\u001b[0m         \u001b[0;32mfor\u001b[0m \u001b[0mhook\u001b[0m \u001b[0;32min\u001b[0m \u001b[0mself\u001b[0m\u001b[0;34m.\u001b[0m\u001b[0m_forward_hooks\u001b[0m\u001b[0;34m.\u001b[0m\u001b[0mvalues\u001b[0m\u001b[0;34m(\u001b[0m\u001b[0;34m)\u001b[0m\u001b[0;34m:\u001b[0m\u001b[0;34m\u001b[0m\u001b[0;34m\u001b[0m\u001b[0m\n\u001b[1;32m    543\u001b[0m             \u001b[0mhook_result\u001b[0m \u001b[0;34m=\u001b[0m \u001b[0mhook\u001b[0m\u001b[0;34m(\u001b[0m\u001b[0mself\u001b[0m\u001b[0;34m,\u001b[0m \u001b[0minput\u001b[0m\u001b[0;34m,\u001b[0m \u001b[0mresult\u001b[0m\u001b[0;34m)\u001b[0m\u001b[0;34m\u001b[0m\u001b[0;34m\u001b[0m\u001b[0m\n",
      "\u001b[0;32m~/SJTU/research_code/TCEP/Structure-Identification/functions/kernels.py\u001b[0m in \u001b[0;36mforward\u001b[0;34m(self, X)\u001b[0m\n\u001b[1;32m     87\u001b[0m \u001b[0;34m\u001b[0m\u001b[0m\n\u001b[1;32m     88\u001b[0m     \u001b[0;32mdef\u001b[0m \u001b[0mforward\u001b[0m\u001b[0;34m(\u001b[0m\u001b[0mself\u001b[0m\u001b[0;34m,\u001b[0m\u001b[0mX\u001b[0m\u001b[0;34m)\u001b[0m\u001b[0;34m:\u001b[0m\u001b[0;34m\u001b[0m\u001b[0;34m\u001b[0m\u001b[0m\n\u001b[0;32m---> 89\u001b[0;31m         \u001b[0mG\u001b[0m \u001b[0;34m=\u001b[0m \u001b[0mPairwiseSqDist\u001b[0m\u001b[0;34m(\u001b[0m\u001b[0mX\u001b[0m\u001b[0;34m)\u001b[0m\u001b[0;34m\u001b[0m\u001b[0;34m\u001b[0m\u001b[0m\n\u001b[0m\u001b[1;32m     90\u001b[0m         \u001b[0mSK\u001b[0m \u001b[0;34m=\u001b[0m \u001b[0mtorch\u001b[0m\u001b[0;34m.\u001b[0m\u001b[0mzeros\u001b[0m\u001b[0;34m(\u001b[0m\u001b[0mG\u001b[0m\u001b[0;34m.\u001b[0m\u001b[0mshape\u001b[0m\u001b[0;34m)\u001b[0m\u001b[0;34m.\u001b[0m\u001b[0mto\u001b[0m\u001b[0;34m(\u001b[0m\u001b[0mself\u001b[0m\u001b[0;34m.\u001b[0m\u001b[0mdevice\u001b[0m\u001b[0;34m)\u001b[0m\u001b[0;34m\u001b[0m\u001b[0;34m\u001b[0m\u001b[0m\n\u001b[1;32m     91\u001b[0m \u001b[0;34m\u001b[0m\u001b[0m\n",
      "\u001b[0;32m~/SJTU/research_code/TCEP/Structure-Identification/functions/kernels.py\u001b[0m in \u001b[0;36mPairwiseSqDist\u001b[0;34m(X, tol)\u001b[0m\n\u001b[1;32m     18\u001b[0m     \u001b[0;31m#careful, transpose AFTER expanding\u001b[0m\u001b[0;34m\u001b[0m\u001b[0;34m\u001b[0m\u001b[0;34m\u001b[0m\u001b[0m\n\u001b[1;32m     19\u001b[0m     \u001b[0mD\u001b[0m \u001b[0;34m=\u001b[0m \u001b[0;34m-\u001b[0m\u001b[0;36m2\u001b[0m\u001b[0;34m*\u001b[0m\u001b[0mXX\u001b[0m \u001b[0;34m+\u001b[0m \u001b[0mX2\u001b[0m\u001b[0;34m.\u001b[0m\u001b[0mexpand_as\u001b[0m\u001b[0;34m(\u001b[0m\u001b[0mXX\u001b[0m\u001b[0;34m)\u001b[0m \u001b[0;34m+\u001b[0m \u001b[0mX2\u001b[0m\u001b[0;34m.\u001b[0m\u001b[0mexpand_as\u001b[0m\u001b[0;34m(\u001b[0m\u001b[0mXX\u001b[0m\u001b[0;34m)\u001b[0m\u001b[0;34m.\u001b[0m\u001b[0mt\u001b[0m\u001b[0;34m(\u001b[0m\u001b[0;34m)\u001b[0m\u001b[0;34m\u001b[0m\u001b[0;34m\u001b[0m\u001b[0m\n\u001b[0;32m---> 20\u001b[0;31m     \u001b[0;32mreturn\u001b[0m \u001b[0mD\u001b[0m\u001b[0;34m.\u001b[0m\u001b[0mabs\u001b[0m\u001b[0;34m(\u001b[0m\u001b[0;34m)\u001b[0m\u001b[0;34m+\u001b[0m\u001b[0mtol\u001b[0m\u001b[0;34m\u001b[0m\u001b[0;34m\u001b[0m\u001b[0m\n\u001b[0m\u001b[1;32m     21\u001b[0m \u001b[0;34m\u001b[0m\u001b[0m\n\u001b[1;32m     22\u001b[0m \u001b[0;32mclass\u001b[0m \u001b[0mRBF\u001b[0m\u001b[0;34m(\u001b[0m\u001b[0mtorch\u001b[0m\u001b[0;34m.\u001b[0m\u001b[0mnn\u001b[0m\u001b[0;34m.\u001b[0m\u001b[0mModule\u001b[0m\u001b[0;34m)\u001b[0m\u001b[0;34m:\u001b[0m\u001b[0;34m\u001b[0m\u001b[0;34m\u001b[0m\u001b[0m\n",
      "\u001b[0;31mRuntimeError\u001b[0m: CUDA out of memory. Tried to allocate 382.00 MiB (GPU 0; 5.80 GiB total capacity; 4.48 GiB already allocated; 184.00 MiB free; 1.86 MiB cached)"
     ]
    }
   ],
   "source": [
    "eps += 1/25\n",
    "print('\\n\\n')\n",
    "ruled_print(f'Testing MVN(0,cov) with cov=[1,{eps};{eps},1] with rho={eps} increasing')\n",
    "cov = [1,eps,eps,1]\n",
    "results = hsic_test(n, reps=reps,\n",
    "                    kernels_X=kernels_X, params_X=params_X,\n",
    "                    kernels_Y=kernels_Y, params_Y=params_Y,\n",
    "                    save=save, cov=cov)\n",
    "\n",
    "hsic_b, hsic_u, gamma_stat, gamma_test_thresh = results[0]\n",
    "print(f'Biased HSIC : {hsic_b} | versus Unbiased HSIC (possibly negative) : {hsic_u}')\n",
    "ruled_print(f'Gamma Approximation to the H0 distribution at alpha = 0.05 : is {gamma_stat} > {gamma_test_thresh} ?')"
   ]
  },
  {
   "cell_type": "code",
   "execution_count": 17,
   "metadata": {},
   "outputs": [
    {
     "name": "stdout",
     "output_type": "stream",
     "text": [
      "Variable            Type        Data/Info\n",
      "-----------------------------------------\n",
      "HSIC                type        <class 'dependence.hsic.HSIC'>\n",
      "MVN                 type        <class 'torch.distributio<...>rmal.MultivariateNormal'>\n",
      "RBF                 type        <class 'functions.kernels.RBF'>\n",
      "RQ                  type        <class 'functions.kernels.RQ'>\n",
      "SumIdentical        type        <class 'functions.kernels.SumIdentical'>\n",
      "argparse            module      <module 'argparse' from '<...>b/python3.6/argparse.py'>\n",
      "cov                 list        n=4\n",
      "device              device      cuda\n",
      "eps                 float       0.08\n",
      "gamma_stat          float64     14.330674171447754\n",
      "gamma_test_thresh   float64     317.8238447547165\n",
      "hsic_b              float64     0.0014330658596009016\n",
      "hsic_test           function    <function hsic_test at 0x7fa37c35c0d0>\n",
      "hsic_u              float64     3.8010644912719727\n",
      "kernels_X           list        n=4\n",
      "kernels_Y           list        n=4\n",
      "main                function    <function main at 0x7fa37c35c400>\n",
      "n                   int         10000\n",
      "np                  module      <module 'numpy' from '/ho<...>kages/numpy/__init__.py'>\n",
      "numpy               function    <function numpy at 0x7fa37c35c510>\n",
      "os                  module      <module 'os' from '/usr/lib/python3.6/os.py'>\n",
      "params_X            list        n=4\n",
      "params_Y            list        n=4\n",
      "reps                int         1\n",
      "results             list        n=1\n",
      "ruled_print         function    <function ruled_print at 0x7fa400644510>\n",
      "save                int         0\n",
      "sizepow             int         4\n",
      "sys                 module      <module 'sys' (built-in)>\n",
      "torch               module      <module 'torch' from '/ho<...>kages/torch/__init__.py'>\n",
      "two_gaussians       function    <function two_gaussians at 0x7fa3547661e0>\n"
     ]
    }
   ],
   "source": [
    "%whos"
   ]
  }
 ],
 "metadata": {
  "kernelspec": {
   "display_name": "Python 3",
   "language": "python",
   "name": "python3"
  },
  "language_info": {
   "codemirror_mode": {
    "name": "ipython",
    "version": 3
   },
   "file_extension": ".py",
   "mimetype": "text/x-python",
   "name": "python",
   "nbconvert_exporter": "python",
   "pygments_lexer": "ipython3",
   "version": "3.6.8"
  }
 },
 "nbformat": 4,
 "nbformat_minor": 2
}
