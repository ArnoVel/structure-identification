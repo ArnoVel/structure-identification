{
 "cells": [
  {
   "cell_type": "code",
   "execution_count": 1,
   "metadata": {
    "scrolled": true
   },
   "outputs": [
    {
     "name": "stderr",
     "output_type": "stream",
     "text": [
      "Detecting 1 CUDA device(s).\n",
      "sklearn.externals.joblib is deprecated in 0.21 and will be removed in 0.23. Please import this functionality directly from joblib, which can be installed with: pip install joblib. If this warning is raised when loading pickled models, you may need to re-serialize those models with scikit-learn 0.21+.\n"
     ]
    }
   ],
   "source": [
    "import numpy as np\n",
    "import torch\n",
    "import argparse\n",
    "from sklearn.preprocessing import scale\n",
    "from pandas import DataFrame, Series\n",
    "from cdt.data import load_dataset"
   ]
  },
  {
   "cell_type": "code",
   "execution_count": 2,
   "metadata": {},
   "outputs": [],
   "source": [
    "import os\n",
    "import sys\n",
    "module_path = os.path.abspath(os.path.join('../..'))\n",
    "if module_path not in sys.path:\n",
    "    sys.path.append(module_path)"
   ]
  },
  {
   "cell_type": "code",
   "execution_count": 3,
   "metadata": {},
   "outputs": [
    {
     "name": "stderr",
     "output_type": "stream",
     "text": [
      "Detecting 1 CUDA device(s).\n"
     ]
    }
   ],
   "source": [
    "from functions.tcep_utils import cut_num_pairs,_get_wd, _get_nc\n",
    "from causal.generative.mmdgen.gnn import CausalMmdNet"
   ]
  },
  {
   "cell_type": "code",
   "execution_count": 4,
   "metadata": {},
   "outputs": [],
   "source": [
    "from itertools import product"
   ]
  },
  {
   "cell_type": "code",
   "execution_count": 5,
   "metadata": {},
   "outputs": [],
   "source": [
    "# set hyperparams\n",
    "\n",
    "nh, lr, n_kernels = 20, 0.01, 5\n",
    "epochs = 1000"
   ]
  },
  {
   "cell_type": "code",
   "execution_count": 6,
   "metadata": {},
   "outputs": [
    {
     "data": {
      "text/plain": [
       "<torch._C.Generator at 0x7fe0c653c910>"
      ]
     },
     "execution_count": 6,
     "metadata": {},
     "output_type": "execute_result"
    }
   ],
   "source": [
    "np.random.seed(0)\n",
    "torch.manual_seed(0)"
   ]
  },
  {
   "cell_type": "code",
   "execution_count": 7,
   "metadata": {},
   "outputs": [],
   "source": [
    "data, labels = load_dataset('tuebingen', shuffle=False)"
   ]
  },
  {
   "cell_type": "code",
   "execution_count": 8,
   "metadata": {},
   "outputs": [],
   "source": [
    "MAX_N_PAIR = 1000\n",
    "cut_num_pairs(data, num_max=MAX_N_PAIR)"
   ]
  },
  {
   "cell_type": "code",
   "execution_count": 9,
   "metadata": {},
   "outputs": [
    {
     "name": "stdout",
     "output_type": "stream",
     "text": [
      "-<>--<>--<>--<>--<>--<>--<>--<>--<>--<>-\n",
      "349 (2,) pair1 <-- shape and # of pair\n"
     ]
    },
    {
     "name": "stderr",
     "output_type": "stream",
     "text": [
      "100%|██████████| 1000/1000 [00:05<00:00, 167.92it/s, idx=pair1, score=(0.016290457919239998, 0.01596209965646267)]\n",
      "  5%|▌         | 27/500 [00:00<00:02, 217.25it/s]"
     ]
    },
    {
     "name": "stdout",
     "output_type": "stream",
     "text": [
      "score for penalty using stat:quantiles & variability meas: mean\n"
     ]
    },
    {
     "name": "stderr",
     "output_type": "stream",
     "text": [
      "100%|██████████| 500/500 [00:01<00:00, 263.39it/s]\n",
      "  2%|▏         | 17/1000 [00:00<00:05, 165.49it/s, idx=pair2, score=(0.2704072594642639, 0.3066158890724182)]"
     ]
    },
    {
     "name": "stdout",
     "output_type": "stream",
     "text": [
      "mmd: c=0.015163770876824856, ac=0.01849326677620411\n",
      "penalty: c=0.01684212258691206, ac=0.04207919043406938\n",
      "scores before norm: c=0.023584832170280887, ac=0.0395328619932388\n",
      "normaliz. factor = 0.06311769416351969\n",
      "scores after norm: c=0.3736643501136054, ac=0.6263356498863947\n",
      "causal, anticausal : (0.3736643501136054, 0.6263356498863947)\n",
      "score for penalty using stat:quantiles & variability meas: max\n",
      "mmd: c=0.015163770876824856, ac=0.01849326677620411\n",
      "penalty: c=0.10718702254030625, ac=0.1189887831910052\n",
      "scores before norm: c=0.06875728214697799, ac=0.07798765837170671\n",
      "normaliz. factor = 0.1467449405186847\n",
      "scores after norm: c=0.4685495929464313, ac=0.5314504070535687\n",
      "causal, anticausal : (0.4685495929464313, 0.5314504070535687)\n",
      "score for penalty using stat:variances & variability meas: mean\n",
      "mmd: c=0.015163770876824856, ac=0.01849326677620411\n",
      "penalty: c=0.05229739748045858, ac=0.1291241148331416\n",
      "scores before norm: c=0.04131246961705415, ac=0.08305532419277491\n",
      "normaliz. factor = 0.12436779380982906\n",
      "scores after norm: c=0.33217980597312113, ac=0.6678201940268789\n",
      "causal, anticausal : (0.33217980597312113, 0.6678201940268789)\n",
      "score for penalty using stat:variances & variability meas: max\n",
      "mmd: c=0.015163770876824856, ac=0.01849326677620411\n",
      "penalty: c=0.28505202308110267, ac=0.3768549742185483\n",
      "scores before norm: c=0.1576897824173762, ac=0.20692075388547826\n",
      "normaliz. factor = 0.36461053630285445\n",
      "scores after norm: c=0.4324882764397, ac=0.5675117235603\n",
      "causal, anticausal : (0.4324882764397, 0.5675117235603)\n",
      "score for penalty using stat: norm\n",
      "mmd: c=0.015163770876824856, ac=0.01849326677620411\n",
      "penalty: c=3.0435215830802917, ac=3.4505418837070465\n",
      "scores before norm: c=1.5369245624169707, ac=1.7437642086297274\n",
      "normaliz. factor = 3.280688771046698\n",
      "scores after norm: c=0.46847618584880807, ac=0.5315238141511919\n",
      "causal, anticausal : (0.46847618584880807, 0.5315238141511919)\n",
      "~*~*~*~*~*~*~*~*~*~*\n",
      "-<>--<>--<>--<>--<>--<>--<>--<>--<>--<>-\n",
      "349 (2,) pair2 <-- shape and # of pair\n"
     ]
    },
    {
     "name": "stderr",
     "output_type": "stream",
     "text": [
      "100%|██████████| 1000/1000 [00:06<00:00, 166.67it/s, idx=pair2, score=(0.015637231990695, 0.01745494455099106)]   \n",
      "  5%|▍         | 23/500 [00:00<00:02, 201.04it/s]"
     ]
    },
    {
     "name": "stdout",
     "output_type": "stream",
     "text": [
      "score for penalty using stat:quantiles & variability meas: mean\n"
     ]
    },
    {
     "name": "stderr",
     "output_type": "stream",
     "text": [
      "100%|██████████| 500/500 [00:01<00:00, 256.27it/s]\n",
      "  2%|▏         | 16/1000 [00:00<00:06, 158.88it/s, idx=pair3, score=(0.3520370125770569, 0.33479559421539307)]"
     ]
    },
    {
     "name": "stdout",
     "output_type": "stream",
     "text": [
      "mmd: c=0.015412960201501846, ac=0.01554118748754263\n",
      "penalty: c=0.036040307100906076, ac=0.03757775746271788\n",
      "scores before norm: c=0.03343311375195489, ac=0.03433006621890157\n",
      "normaliz. factor = 0.06776317997085646\n",
      "scores after norm: c=0.4933817121087555, ac=0.5066182878912445\n",
      "causal, anticausal : (0.4933817121087555, 0.5066182878912445)\n",
      "score for penalty using stat:quantiles & variability meas: max\n",
      "mmd: c=0.015412960201501846, ac=0.01554118748754263\n",
      "penalty: c=0.11508149659405381, ac=0.1463756973882655\n",
      "scores before norm: c=0.07295370849852875, ac=0.08872903618167538\n",
      "normaliz. factor = 0.16168274468020413\n",
      "scores after norm: c=0.45121517848318016, ac=0.5487848215168198\n",
      "causal, anticausal : (0.45121517848318016, 0.5487848215168198)\n",
      "score for penalty using stat:variances & variability meas: mean\n",
      "mmd: c=0.015412960201501846, ac=0.01554118748754263\n",
      "penalty: c=0.13853176312402965, ac=0.14202727484460909\n",
      "scores before norm: c=0.08467884176351667, ac=0.08655482490984717\n",
      "normaliz. factor = 0.17123366667336384\n",
      "scores after norm: c=0.4945221544840565, ac=0.5054778455159435\n",
      "causal, anticausal : (0.4945221544840565, 0.5054778455159435)\n",
      "score for penalty using stat:variances & variability meas: max\n",
      "mmd: c=0.015412960201501846, ac=0.01554118748754263\n",
      "penalty: c=0.4562013969009149, ac=0.5399778462128779\n",
      "scores before norm: c=0.24351365865195929, ac=0.2855301105939816\n",
      "normaliz. factor = 0.5290437692459409\n",
      "scores after norm: c=0.46029019300056273, ac=0.5397098069994373\n",
      "causal, anticausal : (0.46029019300056273, 0.5397098069994373)\n",
      "score for penalty using stat: norm\n",
      "mmd: c=0.015412960201501846, ac=0.01554118748754263\n",
      "penalty: c=3.3082117289304733, ac=3.2548782229423523\n",
      "scores before norm: c=1.6695188246667385, ac=1.6429802989587188\n",
      "normaliz. factor = 3.3124991236254573\n",
      "scores after norm: c=0.5040058162610129, ac=0.49599418373898707\n",
      "causal, anticausal : (0.5040058162610129, 0.49599418373898707)\n",
      "~*~*~*~*~*~*~*~*~*~*\n",
      "-<>--<>--<>--<>--<>--<>--<>--<>--<>--<>-\n",
      "349 (2,) pair3 <-- shape and # of pair\n"
     ]
    },
    {
     "name": "stderr",
     "output_type": "stream",
     "text": [
      "100%|██████████| 1000/1000 [00:05<00:00, 166.89it/s, idx=pair3, score=(0.013105934485793114, 0.018739428371191025)]\n",
      "  6%|▌         | 28/500 [00:00<00:01, 273.89it/s]"
     ]
    },
    {
     "name": "stdout",
     "output_type": "stream",
     "text": [
      "score for penalty using stat:quantiles & variability meas: mean\n"
     ]
    },
    {
     "name": "stderr",
     "output_type": "stream",
     "text": [
      "100%|██████████| 500/500 [00:01<00:00, 257.98it/s]"
     ]
    },
    {
     "name": "stdout",
     "output_type": "stream",
     "text": [
      "mmd: c=0.01617363840341568, ac=0.02204710803925991\n",
      "penalty: c=0.03423545445844574, ac=0.035518286619560746\n",
      "scores before norm: c=0.03329136563263855, ac=0.039806251349040284\n",
      "normaliz. factor = 0.07309761698167883\n",
      "scores after norm: c=0.4554370854659009, ac=0.5445629145340992\n",
      "causal, anticausal : (0.4554370854659009, 0.5445629145340992)\n",
      "score for penalty using stat:quantiles & variability meas: max\n",
      "mmd: c=0.01617363840341568, ac=0.02204710803925991\n",
      "penalty: c=0.14311887717406346, ac=0.10887364654584233\n",
      "scores before norm: c=0.08773307699044741, ac=0.07648393131218108\n",
      "normaliz. factor = 0.16421700830262848\n",
      "scores after norm: c=0.5342508543863367, ac=0.4657491456136634\n",
      "causal, anticausal : (0.5342508543863367, 0.4657491456136634)\n",
      "score for penalty using stat:variances & variability meas: mean\n",
      "mmd: c=0.01617363840341568, ac=0.02204710803925991\n",
      "penalty: c=0.16226256527368257, ac=0.23325330440789158\n",
      "scores before norm: c=0.09730492104025697, ac=0.1386737602432057\n",
      "normaliz. factor = 0.23597868128346267\n",
      "scores after norm: c=0.41234623615585086, ac=0.5876537638441491\n",
      "causal, anticausal : (0.41234623615585086, 0.5876537638441491)\n",
      "score for penalty using stat:variances & variability meas: max\n",
      "mmd: c=0.01617363840341568, ac=0.02204710803925991\n",
      "penalty: c=0.6973910293663073, ac=0.738163807577461\n",
      "scores before norm: c=0.3648691530865693, ac=0.3911290118279904\n",
      "normaliz. factor = 0.7559981649145597\n",
      "scores after norm: c=0.48263232639963555, ac=0.5173676736003644\n",
      "causal, anticausal : (0.48263232639963555, 0.5173676736003644)\n",
      "score for penalty using stat: norm\n",
      "mmd: c=0.01617363840341568, ac=0.02204710803925991\n",
      "penalty: c=2.730515617877245, ac=3.211215429008007\n",
      "scores before norm: c=1.3814314473420382, ac=1.6276548225432634\n",
      "normaliz. factor = 3.0090862698853016\n",
      "scores after norm: c=0.45908668726692725, ac=0.5409133127330727\n",
      "causal, anticausal : (0.45908668726692725, 0.5409133127330727)\n",
      "~*~*~*~*~*~*~*~*~*~*\n"
     ]
    },
    {
     "name": "stderr",
     "output_type": "stream",
     "text": [
      "\n"
     ]
    }
   ],
   "source": [
    "slice_lo, slice_up = 0, 3\n",
    "n_c = 1000\n",
    "variabilities = ['mean', 'max']\n",
    "stats = ['quantiles', 'variances']\n",
    "\n",
    "\n",
    "for i,row in data.iloc[slice_lo:slice_up].iterrows():\n",
    "    print(10*'-<>-')\n",
    "    print(row['A'].shape[0],row.shape, i, '<-- shape and # of pair')\n",
    "    wd = _get_wd(row['A'].shape[0])\n",
    "    \n",
    "    pair = np.vstack((scale(row['A']), scale(row['B'])))\n",
    "    \n",
    "    mmdNet = CausalMmdNet(nh=nh, lr=lr, n_kernels=n_kernels, weight_decay=wd)\n",
    "    \n",
    "    # set & fit\n",
    "    mmdNet.set_data(pair)\n",
    "    mmdNet.fit_two_directions(train_epochs=epochs, idx=i)\n",
    "    \n",
    "    # sample for testing\n",
    "    mmdNet.generate_conditional_sampling(pair=pair, n_cause=1000, sampling_type='sample')\n",
    "    # compute vars & qs's\n",
    "    mmdNet.estimate_conditional_var()\n",
    "    mmdNet.estimate_conditional_quants()\n",
    "    \n",
    "    for stat, varm in product(stats, variabilities):\n",
    "        print(f\"score for penalty using stat:{stat} & variability meas: {varm}\")\n",
    "        print(f\"causal, anticausal : {mmdNet.add_penalty(stat, varm)}\")\n",
    "        \n",
    "    print(f\"score for penalty using stat: norm\")\n",
    "    print(f\"causal, anticausal : {mmdNet.add_penalty('norm', None)}\")\n",
    "    \n",
    "    print(10*'~*')\n",
    "    \n",
    "    #print('-- These differences are broken down as --')\n",
    "    #\n",
    "    #print(f\"diff due to mmd: {mmdNet.mmd_score_causal} vs {mmdNet.mmd_score_anticausal}\")\n",
    "    #print(f\"diff due to  variabilities: ---\")\n",
    "    #for stat, varm in product(stats, variabilities):\n",
    "    #    print(f\"score for penalty using stat:{stat} & variability meas: {varm}\")\n",
    "    #    print(f\"causal, anticausal : {mmdNet.compute_variability(stat, varm)}\")\n",
    "    #\n",
    "    #norm_causal,norm_anticausal = mmdNet.penalize_weight(p=2)\n",
    "    #print(f\"diff due to norm: {norm_causal} vs {norm_anticausal}\")"
   ]
  }
 ],
 "metadata": {
  "kernelspec": {
   "display_name": "Python 3",
   "language": "python",
   "name": "python3"
  },
  "language_info": {
   "codemirror_mode": {
    "name": "ipython",
    "version": 3
   },
   "file_extension": ".py",
   "mimetype": "text/x-python",
   "name": "python",
   "nbconvert_exporter": "python",
   "pygments_lexer": "ipython3",
   "version": "3.6.9"
  }
 },
 "nbformat": 4,
 "nbformat_minor": 2
}
